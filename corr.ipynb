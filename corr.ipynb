{
 "cells": [
  {
   "cell_type": "markdown",
   "metadata": {},
   "source": [
    "### Array to Imgs"
   ]
  },
  {
   "cell_type": "code",
   "execution_count": 2,
   "metadata": {},
   "outputs": [],
   "source": [
    "import numpy as np\n",
    "import gc\n",
    "from PIL import Image"
   ]
  },
  {
   "cell_type": "code",
   "execution_count": 12,
   "metadata": {},
   "outputs": [
    {
     "data": {
      "text/plain": [
       "(101, 540, 960, 3)"
      ]
     },
     "execution_count": 12,
     "metadata": {},
     "output_type": "execute_result"
    }
   ],
   "source": [
    "path = \"C:/Users/arpit/Desktop/M005_front/res/021.npy\" \n",
    "arr = np.load(path)\n",
    "arr.shape"
   ]
  },
  {
   "cell_type": "code",
   "execution_count": 13,
   "metadata": {},
   "outputs": [],
   "source": [
    "i = 1\n",
    "imgs = []\n",
    "\n",
    "for im in arr:\n",
    "    tmp = Image.fromarray((im*255).astype(np.uint8))\n",
    "    tmp.save(f\"C:/Users/arpit/Desktop/M005_front/res/frames/{str(i).zfill(4)}.png\")\n",
    "    #imgs.append(tmp)\n",
    "    i += 1"
   ]
  },
  {
   "cell_type": "code",
   "execution_count": 14,
   "metadata": {},
   "outputs": [
    {
     "data": {
      "text/plain": [
       "71"
      ]
     },
     "execution_count": 14,
     "metadata": {},
     "output_type": "execute_result"
    }
   ],
   "source": [
    "gc.collect()"
   ]
  },
  {
   "cell_type": "markdown",
   "metadata": {},
   "source": [
    "### convert to vid\n",
    "\n",
    "ffmpeg -framerate 30 -i %04d.png -i \"C:\\Users\\arpit\\Desktop\\M005_corrected_vids\\audio\\neutral\\level_1\\033.wav\" out.mkv\n",
    "\n",
    "### reduce dimensions for original by half\n",
    "\n",
    "ffmpeg -i  \"C:\\Users\\arpit\\Desktop\\M005_corrected_vids\\front\\neutral\\level_1\\033.mp4\" -vf \"scale=iw/2:ih/2\" 033_gt.mp4\n",
    "\n",
    "\n",
    "### combine left and right into one\n",
    "\n",
    "ffmpeg -i \"C:\\Users\\arpit\\Desktop\\res\\frames\\033.mkv\" -i \"033_gt.mp4\" -filter_complex hstack output.mp4"
   ]
  },
  {
   "cell_type": "markdown",
   "metadata": {},
   "source": [
    "### Img Squares"
   ]
  },
  {
   "cell_type": "code",
   "execution_count": 1,
   "metadata": {},
   "outputs": [
    {
     "name": "stderr",
     "output_type": "stream",
     "text": [
      "c:\\Users\\arpit\\.conda\\envs\\gaussian_splatting\\lib\\site-packages\\tqdm\\auto.py:21: TqdmWarning: IProgress not found. Please update jupyter and ipywidgets. See https://ipywidgets.readthedocs.io/en/stable/user_install.html\n",
      "  from .autonotebook import tqdm as notebook_tqdm\n"
     ]
    }
   ],
   "source": [
    "from torchvision.transforms import CenterCrop\n",
    "import os\n",
    "from torchvision.io import read_image, ImageReadMode\n",
    "os.environ['KMP_DUPLICATE_LIB_OK'] = 'True'\n",
    "import matplotlib.pyplot as plt\n",
    "import gc\n",
    "from glob import glob \n",
    "from tqdm import tqdm\n",
    "from PIL import Image\n",
    "from pathlib import Path\n",
    "import numpy as np"
   ]
  },
  {
   "cell_type": "code",
   "execution_count": 2,
   "metadata": {},
   "outputs": [
    {
     "name": "stderr",
     "output_type": "stream",
     "text": [
      "100%|██████████| 4726/4726 [36:58<00:00,  2.13it/s]  \n"
     ]
    }
   ],
   "source": [
    "save_path = \"C:/Users/arpit/Desktop/front_neutral_sq\"\n",
    "\n",
    "for file in tqdm(glob(\"C:/Users/arpit/Desktop/front_neutral_bg/*.png\")):\n",
    "    im = read_image(file, mode=ImageReadMode.RGB_ALPHA)\n",
    "    crp = CenterCrop(size=1080)(im)\n",
    "    crp_im = Image.fromarray((crp.permute(1,2,0).numpy()).astype(np.uint8))\n",
    "    filename = Path(file).stem\n",
    "    crp_im.save(f\"{save_path}/{filename}.png\")"
   ]
  },
  {
   "cell_type": "code",
   "execution_count": 3,
   "metadata": {},
   "outputs": [
    {
     "data": {
      "text/plain": [
       "{}"
      ]
     },
     "execution_count": 3,
     "metadata": {},
     "output_type": "execute_result"
    }
   ],
   "source": [
    "crp_im.info"
   ]
  },
  {
   "cell_type": "code",
   "execution_count": 3,
   "metadata": {},
   "outputs": [
    {
     "data": {
      "text/plain": [
       "30"
      ]
     },
     "execution_count": 3,
     "metadata": {},
     "output_type": "execute_result"
    }
   ],
   "source": [
    "gc.collect()"
   ]
  },
  {
   "cell_type": "markdown",
   "metadata": {},
   "source": [
    "### Generate Image Set Lists"
   ]
  },
  {
   "cell_type": "code",
   "execution_count": 1,
   "metadata": {},
   "outputs": [],
   "source": [
    "from glob import glob\n",
    "from tqdm import tqdm\n",
    "import os\n",
    "import gc\n",
    "\n",
    "input_dir = \"C:/Users/arpit/Desktop/M005_front/neutral/level_1/input/images\"\n",
    "output_dir = \"C:/Users/arpit/Desktop/sets\"\n",
    "\n",
    "files = glob(f\"{input_dir}/*.png\")\n",
    "names = [os.path.basename(x) for x in files]"
   ]
  },
  {
   "cell_type": "code",
   "execution_count": 2,
   "metadata": {},
   "outputs": [],
   "source": [
    "vids = set([x[:3] for x in names])\n",
    "max_frames = max([int(x[4:-4]) for x in names])"
   ]
  },
  {
   "cell_type": "code",
   "execution_count": 5,
   "metadata": {},
   "outputs": [],
   "source": [
    "frames_per_set = 4\n",
    "\n",
    "#for i in range(int(max_frames/(frames_per_set-1))):\n",
    "#    os.makedirs(f\"{output_dir}/set{i}\", exist_ok=True)"
   ]
  },
  {
   "cell_type": "code",
   "execution_count": 3,
   "metadata": {},
   "outputs": [
    {
     "data": {
      "text/plain": [
       "85"
      ]
     },
     "execution_count": 3,
     "metadata": {},
     "output_type": "execute_result"
    }
   ],
   "source": [
    "import gc\n",
    "gc.collect()"
   ]
  },
  {
   "cell_type": "code",
   "execution_count": 6,
   "metadata": {},
   "outputs": [
    {
     "name": "stderr",
     "output_type": "stream",
     "text": [
      "100%|██████████| 66/66 [00:01<00:00, 45.04it/s]\n"
     ]
    }
   ],
   "source": [
    "set_idx = 0\n",
    "\n",
    "for frame_idx in tqdm(range(1, max_frames-3, frames_per_set-1)):\n",
    "    files = []\n",
    "    for vid in vids:\n",
    "\n",
    "        if frame_idx == max_frames - 4:\n",
    "            last_frame_idx = max_frames + 1\n",
    "        else:\n",
    "            last_frame_idx = frame_idx + 4\n",
    "\n",
    "        for j in range(frame_idx, last_frame_idx):\n",
    "            if os.path.isfile(f\"{input_dir}/{vid}_{str(j).zfill(4)}.png\"):\n",
    "                files.append(f\"{vid}_{str(j).zfill(4)}.png\")\n",
    "            else:\n",
    "                files.append(f\"{vid}_{str(j-frame_idx+1).zfill(4)}.png\")\n",
    "    \n",
    "    with open(f'{output_dir}/set{set_idx}.txt', 'w') as f:\n",
    "        for line in files:\n",
    "            f.write(f\"{line}\\n\")\n",
    "    \n",
    "    set_idx += 1"
   ]
  },
  {
   "cell_type": "code",
   "execution_count": null,
   "metadata": {},
   "outputs": [],
   "source": [
    "#for frame_idx in tqdm(range(1, max_frames-3, frames_per_set-1)):\n",
    "#    print(frame_idx)"
   ]
  },
  {
   "cell_type": "markdown",
   "metadata": {},
   "source": [
    "### IMG Lists"
   ]
  },
  {
   "cell_type": "code",
   "execution_count": 4,
   "metadata": {},
   "outputs": [
    {
     "data": {
      "text/plain": [
       "98"
      ]
     },
     "execution_count": 4,
     "metadata": {},
     "output_type": "execute_result"
    }
   ],
   "source": [
    "import gc\n",
    "gc.collect()"
   ]
  },
  {
   "cell_type": "code",
   "execution_count": null,
   "metadata": {},
   "outputs": [],
   "source": [
    "from glob import glob\n",
    "import os\n",
    "\n",
    "vids = [str(i).zfill(3) for i in range(1,41)]\n",
    "#vids"
   ]
  },
  {
   "cell_type": "code",
   "execution_count": 9,
   "metadata": {},
   "outputs": [],
   "source": [
    "pc_frames, other_frames = [], []\n",
    "\n",
    "for vid in vids[:12]:\n",
    "    frames = glob(f\"C:/Users/arpit/Desktop/M005_front/neutral/level_1/input/images/{vid}_*.png\")\n",
    "    n_frames = len(frames)\n",
    "\n",
    "    frame_nums = [int(os.path.basename(x[:-4]).split(\"_\")[-1]) for x in frames]\n",
    "\n",
    "    first = min(frame_nums)\n",
    "    last = max(frame_nums)\n",
    "    mid = int(last/2)\n",
    "    \n",
    "    pc_frames_temp = [\n",
    "        f\"C:/Users/arpit/Desktop/M005_front/neutral/level_1/input/images\\\\{vid}_{str(first).zfill(4)}.png\",\n",
    "        f\"C:/Users/arpit/Desktop/M005_front/neutral/level_1/input/images\\\\{vid}_{str(mid).zfill(4)}.png\",\n",
    "        f\"C:/Users/arpit/Desktop/M005_front/neutral/level_1/input/images\\\\{vid}_{str(last).zfill(4)}.png\",\n",
    "    ]\n",
    "\n",
    "    for frame in frames:\n",
    "        if frame in pc_frames_temp:\n",
    "            continue\n",
    "        else:\n",
    "            other_frames.append(frame)\n",
    "    \n",
    "    pc_frames.extend(pc_frames_temp)"
   ]
  },
  {
   "cell_type": "code",
   "execution_count": 10,
   "metadata": {},
   "outputs": [
    {
     "data": {
      "text/plain": [
       "(36, 1279)"
      ]
     },
     "execution_count": 10,
     "metadata": {},
     "output_type": "execute_result"
    }
   ],
   "source": [
    "len(pc_frames), len(other_frames)"
   ]
  },
  {
   "cell_type": "code",
   "execution_count": null,
   "metadata": {},
   "outputs": [],
   "source": [
    "with open('C:/Users/arpit/Desktop/pc_frames.txt', 'w') as f:\n",
    "    for line in pc_frames:\n",
    "        f.write(f\"{os.path.basename(line)}\\n\")"
   ]
  },
  {
   "cell_type": "code",
   "execution_count": 11,
   "metadata": {},
   "outputs": [],
   "source": [
    "with open('C:/Users/arpit/Desktop/other_frames.txt', 'w') as f:\n",
    "    for line in other_frames:\n",
    "        f.write(f\"{os.path.basename(line)}\\n\")"
   ]
  },
  {
   "cell_type": "code",
   "execution_count": 8,
   "metadata": {},
   "outputs": [
    {
     "name": "stdout",
     "output_type": "stream",
     "text": [
      "379\n"
     ]
    }
   ],
   "source": [
    "n = 0\n",
    "from glob import glob\n",
    "\n",
    "for file in glob(\"C:/Users/arpit/Desktop/M005_front/neutral/level_1/input/images/01[0-2]_*.png\"):\n",
    "    n += 1\n",
    "\n",
    "print(n)"
   ]
  },
  {
   "cell_type": "code",
   "execution_count": 12,
   "metadata": {},
   "outputs": [
    {
     "data": {
      "text/plain": [
       "224"
      ]
     },
     "execution_count": 12,
     "metadata": {},
     "output_type": "execute_result"
    }
   ],
   "source": [
    "import gc\n",
    "gc.collect()"
   ]
  }
 ],
 "metadata": {
  "kernelspec": {
   "display_name": "gaussian_splatting",
   "language": "python",
   "name": "python3"
  },
  "language_info": {
   "codemirror_mode": {
    "name": "ipython",
    "version": 3
   },
   "file_extension": ".py",
   "mimetype": "text/x-python",
   "name": "python",
   "nbconvert_exporter": "python",
   "pygments_lexer": "ipython3",
   "version": "3.7.13"
  }
 },
 "nbformat": 4,
 "nbformat_minor": 2
}
