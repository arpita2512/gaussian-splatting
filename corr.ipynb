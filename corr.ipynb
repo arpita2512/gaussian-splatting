{
 "cells": [
  {
   "cell_type": "markdown",
   "metadata": {},
   "source": [
    "### Array to Imgs"
   ]
  },
  {
   "cell_type": "code",
   "execution_count": 7,
   "metadata": {},
   "outputs": [
    {
     "data": {
      "text/plain": [
       "(117, 540, 960, 3)"
      ]
     },
     "execution_count": 7,
     "metadata": {},
     "output_type": "execute_result"
    }
   ],
   "source": [
    "import numpy as np\n",
    "import gc\n",
    "from PIL import Image\n",
    "\n",
    "path = \"C:/Users/arpit/Desktop/M005_front/res/037.npy\" \n",
    "arr = np.load(path)\n",
    "arr.shape"
   ]
  },
  {
   "cell_type": "code",
   "execution_count": 8,
   "metadata": {},
   "outputs": [],
   "source": [
    "i = 1\n",
    "imgs = []\n",
    "\n",
    "for im in arr:\n",
    "    tmp = Image.fromarray((im*255).astype(np.uint8))\n",
    "    tmp.save(f\"C:/Users/arpit/Desktop/M005_front/res/frames/{str(i).zfill(4)}.png\")\n",
    "    #imgs.append(tmp)\n",
    "    i += 1"
   ]
  },
  {
   "cell_type": "code",
   "execution_count": 9,
   "metadata": {},
   "outputs": [
    {
     "data": {
      "text/plain": [
       "71"
      ]
     },
     "execution_count": 9,
     "metadata": {},
     "output_type": "execute_result"
    }
   ],
   "source": [
    "del arr;\n",
    "gc.collect()"
   ]
  },
  {
   "cell_type": "markdown",
   "metadata": {},
   "source": [
    "### convert to vid\n",
    "\n",
    "ffmpeg -framerate 30 -i %04d.png -i \"C:\\Users\\arpit\\Desktop\\M005_corrected_vids\\audio\\neutral\\level_1\\033.wav\" out.mkv\n",
    "\n",
    "### reduce dimensions for original by half\n",
    "\n",
    "ffmpeg -i  \"C:\\Users\\arpit\\Desktop\\M005_corrected_vids\\front\\neutral\\level_1\\033.mp4\" -vf \"scale=iw/2:ih/2\" 033_gt.mp4\n",
    "\n",
    "\n",
    "### combine left and right into one\n",
    "\n",
    "ffmpeg -i \"C:\\Users\\arpit\\Desktop\\res\\frames\\033.mkv\" -i \"033_gt.mp4\" -filter_complex hstack output.mp4"
   ]
  },
  {
   "cell_type": "markdown",
   "metadata": {},
   "source": [
    "### Img Squares"
   ]
  },
  {
   "cell_type": "code",
   "execution_count": 1,
   "metadata": {},
   "outputs": [
    {
     "name": "stderr",
     "output_type": "stream",
     "text": [
      "c:\\Users\\arpit\\.conda\\envs\\gaussian_splatting\\lib\\site-packages\\tqdm\\auto.py:21: TqdmWarning: IProgress not found. Please update jupyter and ipywidgets. See https://ipywidgets.readthedocs.io/en/stable/user_install.html\n",
      "  from .autonotebook import tqdm as notebook_tqdm\n"
     ]
    }
   ],
   "source": [
    "from torchvision.transforms import CenterCrop\n",
    "import os\n",
    "from torchvision.io import read_image, ImageReadMode\n",
    "os.environ['KMP_DUPLICATE_LIB_OK'] = 'True'\n",
    "import matplotlib.pyplot as plt\n",
    "import gc\n",
    "from glob import glob \n",
    "from tqdm import tqdm\n",
    "from PIL import Image\n",
    "from pathlib import Path\n",
    "import numpy as np"
   ]
  },
  {
   "cell_type": "code",
   "execution_count": 2,
   "metadata": {},
   "outputs": [
    {
     "name": "stderr",
     "output_type": "stream",
     "text": [
      "100%|██████████| 4726/4726 [36:58<00:00,  2.13it/s]  \n"
     ]
    }
   ],
   "source": [
    "save_path = \"C:/Users/arpit/Desktop/front_neutral_sq\"\n",
    "\n",
    "for file in tqdm(glob(\"C:/Users/arpit/Desktop/front_neutral_bg/*.png\")):\n",
    "    im = read_image(file, mode=ImageReadMode.RGB_ALPHA)\n",
    "    crp = CenterCrop(size=1080)(im)\n",
    "    crp_im = Image.fromarray((crp.permute(1,2,0).numpy()).astype(np.uint8))\n",
    "    filename = Path(file).stem\n",
    "    crp_im.save(f\"{save_path}/{filename}.png\")"
   ]
  },
  {
   "cell_type": "code",
   "execution_count": 3,
   "metadata": {},
   "outputs": [
    {
     "data": {
      "text/plain": [
       "{}"
      ]
     },
     "execution_count": 3,
     "metadata": {},
     "output_type": "execute_result"
    }
   ],
   "source": [
    "crp_im.info"
   ]
  },
  {
   "cell_type": "code",
   "execution_count": 3,
   "metadata": {},
   "outputs": [
    {
     "data": {
      "text/plain": [
       "30"
      ]
     },
     "execution_count": 3,
     "metadata": {},
     "output_type": "execute_result"
    }
   ],
   "source": [
    "gc.collect()"
   ]
  },
  {
   "cell_type": "markdown",
   "metadata": {},
   "source": [
    "### IMG Lists"
   ]
  },
  {
   "cell_type": "code",
   "execution_count": 1,
   "metadata": {},
   "outputs": [
    {
     "data": {
      "text/plain": [
       "145"
      ]
     },
     "execution_count": 1,
     "metadata": {},
     "output_type": "execute_result"
    }
   ],
   "source": [
    "import gc\n",
    "gc.collect()"
   ]
  },
  {
   "cell_type": "code",
   "execution_count": 4,
   "metadata": {},
   "outputs": [],
   "source": [
    "from glob import glob\n",
    "import os\n",
    "\n",
    "vids = [str(i).zfill(3) for i in range(1,6)] ## 41 range\n",
    "#vids"
   ]
  },
  {
   "cell_type": "code",
   "execution_count": 5,
   "metadata": {},
   "outputs": [],
   "source": [
    "pc_frames, other_frames = [], []\n",
    "\n",
    "emo = \"neutral\"\n",
    "level = \"level_1\"\n",
    "\n",
    "for vid in vids:\n",
    "    \n",
    "    # for neutral\n",
    "    frames = glob(f\"C:/Users/arpit/Desktop/M005_front/{emo}/{level}/input/images/{vid}_*.png\")\n",
    "\n",
    "\n",
    "    # for happy\n",
    "    #frames = glob(f\"C:/Users/arpit/Desktop/M005_front/{emo}/input/images/{emo}_{level}_{vid}_*.png\")\n",
    "    \n",
    "    n_frames = len(frames)\n",
    "\n",
    "    frame_nums = [int(os.path.basename(x[:-4]).split(\"_\")[-1]) for x in frames]\n",
    "\n",
    "    first = min(frame_nums)\n",
    "    last = max(frame_nums)\n",
    "    mid = int(last/2)\n",
    "    quarter = int(mid/2)\n",
    "    three_quarter = int((mid+last)/2)\n",
    "\n",
    "    #print(first, quarter, mid, three_quarter, last)\n",
    "    \n",
    "    # for neutral\n",
    "    pc_frames_temp = [\n",
    "        f\"C:/Users/arpit/Desktop/M005_front/{emo}/{level}/input/images\\\\{vid}_{str(first).zfill(4)}.png\",\n",
    "        f\"C:/Users/arpit/Desktop/M005_front/{emo}/{level}/input/images\\\\{vid}_{str(mid).zfill(4)}.png\",\n",
    "        f\"C:/Users/arpit/Desktop/M005_front/{emo}/{level}/input/images\\\\{vid}_{str(last).zfill(4)}.png\",\n",
    "        f\"C:/Users/arpit/Desktop/M005_front/{emo}/{level}/input/images\\\\{vid}_{str(quarter).zfill(4)}.png\",\n",
    "        f\"C:/Users/arpit/Desktop/M005_front/{emo}/{level}/input/images\\\\{vid}_{str(three_quarter).zfill(4)}.png\",\n",
    "    ]\n",
    "\n",
    "    # for happy\n",
    "    #pc_frames_temp = [\n",
    "    #    f\"C:/Users/arpit/Desktop/M005_front/{emo}/input/images\\\\{emo}_{level}_{vid}_{str(first).zfill(4)}.png\",\n",
    "    #    f\"C:/Users/arpit/Desktop/M005_front/{emo}/input/images\\\\{emo}_{level}_{vid}_{str(mid).zfill(4)}.png\",\n",
    "    #    f\"C:/Users/arpit/Desktop/M005_front/{emo}/input/images\\\\{emo}_{level}_{vid}_{str(last).zfill(4)}.png\",\n",
    "    #    f\"C:/Users/arpit/Desktop/M005_front/{emo}/input/images\\\\{emo}_{level}_{vid}_{str(quarter).zfill(4)}.png\",\n",
    "    #    f\"C:/Users/arpit/Desktop/M005_front/{emo}/input/images\\\\{emo}_{level}_{vid}_{str(three_quarter).zfill(4)}.png\",\n",
    "    #]\n",
    "\n",
    "    for frame in frames:\n",
    "        if frame in pc_frames_temp:\n",
    "            continue\n",
    "        else:\n",
    "            other_frames.append(frame)\n",
    "    \n",
    "    pc_frames.extend(pc_frames_temp)"
   ]
  },
  {
   "cell_type": "code",
   "execution_count": 6,
   "metadata": {},
   "outputs": [
    {
     "data": {
      "text/plain": [
       "(25, 440)"
      ]
     },
     "execution_count": 6,
     "metadata": {},
     "output_type": "execute_result"
    }
   ],
   "source": [
    "len(pc_frames), len(other_frames)"
   ]
  },
  {
   "cell_type": "code",
   "execution_count": 7,
   "metadata": {},
   "outputs": [],
   "source": [
    "# write mode PC\n",
    "\n",
    "with open('C:/Users/arpit/Desktop/pc_frames.txt', 'w') as f:\n",
    "    for line in pc_frames:\n",
    "        f.write(f\"{os.path.basename(line)}\\n\")"
   ]
  },
  {
   "cell_type": "code",
   "execution_count": 13,
   "metadata": {},
   "outputs": [],
   "source": [
    "# append mode PC\n",
    "\n",
    "with open('C:/Users/arpit/Desktop/pc_frames.txt', 'a') as f:\n",
    "    for line in pc_frames:\n",
    "        f.write(f\"{os.path.basename(line)}\\n\")"
   ]
  },
  {
   "cell_type": "code",
   "execution_count": 8,
   "metadata": {},
   "outputs": [],
   "source": [
    "# write mode - OTHER\n",
    "\n",
    "with open('C:/Users/arpit/Desktop/other_frames.txt', 'w') as f:\n",
    "    for line in other_frames:\n",
    "        f.write(f\"{os.path.basename(line)}\\n\")"
   ]
  },
  {
   "cell_type": "code",
   "execution_count": 14,
   "metadata": {},
   "outputs": [],
   "source": [
    "# append mode - OTHER\n",
    "\n",
    "with open('C:/Users/arpit/Desktop/other_frames.txt', 'a') as f:\n",
    "    for line in other_frames:\n",
    "        f.write(f\"{os.path.basename(line)}\\n\")"
   ]
  },
  {
   "cell_type": "code",
   "execution_count": 8,
   "metadata": {},
   "outputs": [
    {
     "name": "stdout",
     "output_type": "stream",
     "text": [
      "379\n"
     ]
    }
   ],
   "source": [
    "n = 0\n",
    "from glob import glob\n",
    "\n",
    "for file in glob(\"C:/Users/arpit/Desktop/M005_front/neutral/level_1/input/images/01[0-2]_*.png\"):\n",
    "    n += 1\n",
    "\n",
    "print(n)"
   ]
  },
  {
   "cell_type": "code",
   "execution_count": 7,
   "metadata": {},
   "outputs": [
    {
     "data": {
      "text/plain": [
       "84"
      ]
     },
     "execution_count": 7,
     "metadata": {},
     "output_type": "execute_result"
    }
   ],
   "source": [
    "import gc\n",
    "gc.collect()"
   ]
  },
  {
   "cell_type": "markdown",
   "metadata": {},
   "source": [
    "### Create 3 Frames Subsets"
   ]
  },
  {
   "cell_type": "code",
   "execution_count": 2,
   "metadata": {},
   "outputs": [],
   "source": [
    "from glob import glob\n",
    "import os\n",
    "\n",
    "vids = [str(i).zfill(3) for i in range(1,41)]\n",
    "#vids"
   ]
  },
  {
   "cell_type": "code",
   "execution_count": 4,
   "metadata": {},
   "outputs": [],
   "source": [
    "# FRONT FRAMES\n",
    "\n",
    "from pathlib import Path\n",
    "import shutil\n",
    "\n",
    "emo = \"neutral\"\n",
    "level = \"level_1\"\n",
    "output_dir = \"C:/Users/arpit/Desktop/3f_neutral/images\"\n",
    "\n",
    "for vid in vids:\n",
    "    \n",
    "    # for neutral\n",
    "    frames = glob(f\"C:/Users/arpit/Desktop/M005_front/{emo}/{level}/input/images/{vid}_*.png\")\n",
    "\n",
    "\n",
    "    # for happy\n",
    "    #frames = glob(f\"C:/Users/arpit/Desktop/M005_front/{emo}/input/images/{emo}_{level}_{vid}_*.png\")\n",
    "    \n",
    "    n_frames = len(frames)\n",
    "\n",
    "    frame_nums = [int(os.path.basename(x[:-4]).split(\"_\")[-1]) for x in frames]\n",
    "\n",
    "    first = min(frame_nums)\n",
    "    last = max(frame_nums)\n",
    "    mid = int(last/2)\n",
    "    #quarter = int(mid/2)\n",
    "    #three_quarter = int((mid+last)/2)\n",
    "\n",
    "    #print(first, quarter, mid, three_quarter, last)\n",
    "    \n",
    "    # for neutral\n",
    "    pc_frames_temp = [\n",
    "        f\"C:/Users/arpit/Desktop/M005_front/{emo}/{level}/input/images\\\\{vid}_{str(first).zfill(4)}.png\",\n",
    "        f\"C:/Users/arpit/Desktop/M005_front/{emo}/{level}/input/images\\\\{vid}_{str(mid).zfill(4)}.png\",\n",
    "        f\"C:/Users/arpit/Desktop/M005_front/{emo}/{level}/input/images\\\\{vid}_{str(last).zfill(4)}.png\",\n",
    "    ]\n",
    "\n",
    "    for frame in pc_frames_temp:\n",
    "        name = \"front_neutral_level_1_\" + Path(frame).parts[-1]\n",
    "        #print(name)\n",
    "        shutil.copy(frame, f\"{output_dir}/{name}\")\n",
    "    #break"
   ]
  },
  {
   "cell_type": "code",
   "execution_count": null,
   "metadata": {},
   "outputs": [],
   "source": [
    "# OTHER FRAMES\n",
    "\n",
    "from pathlib import Path\n",
    "import shutil\n",
    "\n",
    "emo = \"neutral\"\n",
    "level = \"level_1\"\n",
    "output_dir = \"C:/Users/arpit/Desktop/3of\"\n",
    "angle = \"down\"\n",
    "\n",
    "for vid in vids:\n",
    "    \n",
    "    # for neutral\n",
    "    frames = glob(f\"C:/Users/arpit/Desktop/M005_front/{emo}/{level}/other_angles/{angle}_{emo}_{level}_{vid}_*.png\")\n",
    "\n",
    "\n",
    "    # for happy\n",
    "    #frames = glob(f\"C:/Users/arpit/Desktop/M005_front/{emo}/input/images/{emo}_{level}_{vid}_*.png\")\n",
    "    \n",
    "    n_frames = len(frames)\n",
    "\n",
    "    frame_nums = [int(os.path.basename(x[:-4]).split(\"_\")[-1]) for x in frames]\n",
    "\n",
    "    first = min(frame_nums)\n",
    "    last = max(frame_nums)\n",
    "    mid = int(last/2)\n",
    "    #quarter = int(mid/2)\n",
    "    #three_quarter = int((mid+last)/2)\n",
    "\n",
    "    #print(first, quarter, mid, three_quarter, last)\n",
    "    \n",
    "    # for neutral\n",
    "    pc_frames_temp = [\n",
    "        f\"C:/Users/arpit/Desktop/M005_front/{emo}/{level}/other_angles\\\\{angle}_{emo}_{level}_{vid}_{str(first).zfill(4)}.png\",\n",
    "        f\"C:/Users/arpit/Desktop/M005_front/{emo}/{level}/other_angles\\\\{angle}_{emo}_{level}_{vid}_{str(mid).zfill(4)}.png\",\n",
    "        f\"C:/Users/arpit/Desktop/M005_front/{emo}/{level}/other_angles\\\\{angle}_{emo}_{level}_{vid}_{str(last).zfill(4)}.png\",\n",
    "    ]\n",
    "\n",
    "    for frame in pc_frames_temp:\n",
    "        name = Path(frame).parts[-1]\n",
    "        shutil.copy(frame, f\"{output_dir}/{name}\")\n",
    "    #break"
   ]
  },
  {
   "cell_type": "code",
   "execution_count": 8,
   "metadata": {},
   "outputs": [
    {
     "data": {
      "text/plain": [
       "113"
      ]
     },
     "execution_count": 8,
     "metadata": {},
     "output_type": "execute_result"
    }
   ],
   "source": [
    "import gc\n",
    "gc.collect()"
   ]
  }
 ],
 "metadata": {
  "kernelspec": {
   "display_name": "gaussian_splatting",
   "language": "python",
   "name": "python3"
  },
  "language_info": {
   "codemirror_mode": {
    "name": "ipython",
    "version": 3
   },
   "file_extension": ".py",
   "mimetype": "text/x-python",
   "name": "python",
   "nbconvert_exporter": "python",
   "pygments_lexer": "ipython3",
   "version": "3.7.13"
  }
 },
 "nbformat": 4,
 "nbformat_minor": 2
}
